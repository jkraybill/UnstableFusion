{
  "cells": [
    {
      "cell_type": "code",
      "execution_count": null,
      "metadata": {
        "id": "nx-M-x4J4EuL"
      },
      "outputs": [],
      "source": [
        "!nvidia-smi"
      ]
    },
    {
      "cell_type": "code",
      "execution_count": null,
      "metadata": {
        "id": "rzmyIBrFmgcq"
      },
      "outputs": [],
      "source": [
        "!pip install diffusers==0.4.1\n",
        "!pip install transformers scipy ftfy\n",
        "!pip install \"ipywidgets>=7,<8\"\n",
        "!pip install flask_cloudflared\n",
        "! wget -q https://github.com/cloudflare/cloudflared/releases/latest/download/cloudflared-linux-amd64.deb\n",
        "!dpkg -i cloudflared-linux-amd64.deb\n",
        "!git clone https://github.com/ahrm/UnstableFusion"
      ]
    },
    {
      "cell_type": "code",
      "execution_count": null,
      "metadata": {
        "id": "mTLm-iwG4H2y"
      },
      "outputs": [],
      "source": [
        "from google.colab import output\n",
        "output.enable_custom_widget_manager()"
      ]
    },
    {
      "cell_type": "code",
      "execution_count": null,
      "metadata": {
        "id": "NbTSZzlv4QXk"
      },
      "outputs": [],
      "source": [
        "from huggingface_hub import notebook_login\n",
        "\n",
        "notebook_login()"
      ]
    },
    {
      "cell_type": "code",
      "execution_count": null,
      "metadata": {
        "id": "HDcu4kUNpINb"
      },
      "outputs": [],
      "source": [
        "from UnstableFusion.diffusionserver import run_app"
      ]
    },
    {
      "cell_type": "code",
      "execution_count": null,
      "metadata": {
        "id": "ncxA3xE86WL4"
      },
      "outputs": [],
      "source": [
        "run_app()"
      ]
    },
    {
      "cell_type": "code",
      "execution_count": null,
      "metadata": {
        "id": "VHBAJgnSN7oU"
      },
      "outputs": [],
      "source": [
        "%cd /content\n",
        "!git clone https://github.com/jquesnelle/txt2imghd.git\n",
        "!git clone https://github.com/CompVis/taming-transformers.git\n",
        "%pwd\n",
        "%cd /content/taming-transformers\n",
        "!pip install -e .\n",
        "%cd /content\n",
        "!git clone https://github.com/CompVis/stable-diffusion.git\n",
        "%cd /content/stable-diffusion/\n",
        "!pip install -e .\n",
        "%cd /content"
      ]
    },
    {
      "cell_type": "code",
      "source": [
        "!pip install omegaconf\n",
        "!pip install invisible-watermark\n",
        "!pip install einops\n",
        "!pip install pytorch_lightning\n",
        "!pip install ldm"
      ],
      "metadata": {
        "id": "KDC0QUSSSmOU"
      },
      "execution_count": null,
      "outputs": []
    },
    {
      "cell_type": "code",
      "source": [
        "!cp /content/txt2imghd/txt2imghd.py /content/stable-diffusion/scripts/txt2imghd.py\n",
        "%cd /content/stable-diffusion/"
      ],
      "metadata": {
        "id": "mKXk3GfCWVCK"
      },
      "execution_count": null,
      "outputs": []
    },
    {
      "cell_type": "code",
      "source": [
        "!git lfs install\n",
        "!git clone https://huggingface.co/CompVis/stable-diffusion-v-1-4-original"
      ],
      "metadata": {
        "id": "AtYWzLvtZmuX"
      },
      "execution_count": null,
      "outputs": []
    },
    {
      "cell_type": "code",
      "source": [
        "!mkdir -p models/ldm/stable-diffusion-v1/\n",
        "!ln -s /content/stable-diffusion/stable-diffusion-v-1-4-original/sd-v1-4.ckpt models/ldm/stable-diffusion-v1/model.ckpt "
      ],
      "metadata": {
        "id": "p_1Z-KpZbWA8"
      },
      "execution_count": null,
      "outputs": []
    },
    {
      "cell_type": "code",
      "source": [
        "!pip install ftfy regex tqdm\n",
        "!pip install git+https://github.com/openai/CLIP.git\n",
        "!pip install kornia"
      ],
      "metadata": {
        "id": "9p7rI37lcjDL"
      },
      "execution_count": null,
      "outputs": []
    },
    {
      "cell_type": "code",
      "source": [
        "%cd /content/stable-diffusion\n",
        "!wget https://github.com/xinntao/Real-ESRGAN/releases/download/v0.2.2.4/realesrgan-ncnn-vulkan-20210901-ubuntu.zip"
      ],
      "metadata": {
        "id": "6u95miaQeYKa"
      },
      "execution_count": null,
      "outputs": []
    },
    {
      "cell_type": "code",
      "source": [],
      "metadata": {
        "id": "xZBOf63eqv09"
      },
      "execution_count": null,
      "outputs": []
    },
    {
      "cell_type": "code",
      "source": [
        "!unzip realesrgan-ncnn-vulkan-20210901-ubuntu.zip"
      ],
      "metadata": {
        "id": "oexHgbX9enj7"
      },
      "execution_count": null,
      "outputs": []
    },
    {
      "cell_type": "code",
      "source": [
        "!apt-get install libvulkan-dev"
      ],
      "metadata": {
        "id": "H6SmuxUwjSg9"
      },
      "execution_count": null,
      "outputs": []
    },
    {
      "cell_type": "code",
      "source": [
        "!pip install Pillow==9.1.0"
      ],
      "metadata": {
        "id": "MU6NQuDyrscs"
      },
      "execution_count": null,
      "outputs": []
    },
    {
      "cell_type": "code",
      "source": [
        "!chmod 755 /content/stable-diffusion/realesrgan-ncnn-vulkan\n",
        "%cd /content/stable-diffusion\n",
        "!python scripts/txt2imghd.py --realesrgan /content/stable-diffusion/realesrgan-ncnn-vulkan --seed $RANDOM\n"
      ],
      "metadata": {
        "id": "U0IRlZC_QZpO"
      },
      "execution_count": null,
      "outputs": []
    },
    {
      "cell_type": "code",
      "source": [
        "!chmod 755 /content/stable-diffusion/realesrgan-ncnn-vulkan\n",
        "!/content/stable-diffusion/realesrgan-ncnn-vulkan"
      ],
      "metadata": {
        "id": "buETd4Plmjap"
      },
      "execution_count": null,
      "outputs": []
    }
  ],
  "metadata": {
    "accelerator": "GPU",
    "colab": {
      "provenance": []
    },
    "kernelspec": {
      "display_name": "Python 3",
      "name": "python3"
    },
    "language_info": {
      "name": "python"
    }
  },
  "nbformat": 4,
  "nbformat_minor": 0
}